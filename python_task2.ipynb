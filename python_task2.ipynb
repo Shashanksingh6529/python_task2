{
 "cells": [
  {
   "cell_type": "markdown",
   "id": "06064b30-ff99-4ce2-a5f5-476ccc6ba4f2",
   "metadata": {},
   "source": [
    "Q1. Python function to check the validity of a password:"
   ]
  },
  {
   "cell_type": "code",
   "execution_count": 1,
   "id": "ff809374-da2e-494a-a23c-41faf2717155",
   "metadata": {},
   "outputs": [
    {
     "name": "stdin",
     "output_type": "stream",
     "text": [
      "Enter your password:  \"shashank\"\n"
     ]
    },
    {
     "name": "stdout",
     "output_type": "stream",
     "text": [
      "Invalid Password\n"
     ]
    }
   ],
   "source": [
    "def check_password(password):\n",
    "    uppercase_count = sum(1 for char in password if char.isupper())\n",
    "    lowercase_count = sum(1 for char in password if char.islower())\n",
    "    digit_count = sum(1 for char in password if char.isdigit())\n",
    "    special_count = sum(1 for char in password if not char.isalnum())\n",
    "\n",
    "    if (uppercase_count >= 2 and lowercase_count >= 2 and digit_count >= 1\n",
    "            and special_count >= 3 and len(password) == 10):\n",
    "        return \"Valid Password\"\n",
    "    else:\n",
    "        return \"Invalid Password\"\n",
    "\n",
    "# Example usage:\n",
    "password = input(\"Enter your password: \")\n",
    "print(check_password(password))"
   ]
  },
  {
   "cell_type": "markdown",
   "id": "d298a6cb-ef0a-498a-83c1-ce7cb16c2469",
   "metadata": {},
   "source": [
    "Q2. Solving the given questions using different techniques:"
   ]
  },
  {
   "cell_type": "code",
   "execution_count": null,
   "id": "466b3864-9e23-480a-9ece-522fdc08205b",
   "metadata": {},
   "outputs": [],
   "source": [
    "strings = ['apple', 'banana', 'cherry']\n",
    "starts_with_a = list(filter(lambda x: x.startswith('a'), strings))\n",
    "print(starts_with_a)\n",
    "\n",
    "strings = ['123', 'hello', '456', 'world']\n",
    "is_numeric = list(filter(lambda x: x.isnumeric(), strings))\n",
    "print(is_numeric)\n",
    "\n",
    "fruits = [(\"mango\", 99), (\"orange\", 80), (\"grapes\", 1000)]\n",
    "sorted_fruits = sorted(fruits, key=lambda x: x[1])\n",
    "print(sorted_fruits)\n",
    "\n",
    "squares = [x**2 for x in range(1, 11)]\n",
    "print(squares)\n",
    "\n",
    "import math\n",
    "cube_roots = [math.pow(x, 1/3) for x in range(1, 11)]\n",
    "print(cube_roots)\n",
    "\n",
    "number = 6\n",
    "is_even = lambda x: x % 2 == 0\n",
    "print(is_even(number))\n",
    "\n",
    "numbers = [1, 2, 3, 4, 5, 6, 7, 8, 9, 10]\n",
    "odd_numbers = list(filter(lambda x: x % 2 != 0, numbers))\n",
    "print(odd_numbers)"
   ]
  }
 ],
 "metadata": {
  "kernelspec": {
   "display_name": "Python 3 (ipykernel)",
   "language": "python",
   "name": "python3"
  },
  "language_info": {
   "codemirror_mode": {
    "name": "ipython",
    "version": 3
   },
   "file_extension": ".py",
   "mimetype": "text/x-python",
   "name": "python",
   "nbconvert_exporter": "python",
   "pygments_lexer": "ipython3",
   "version": "3.10.8"
  }
 },
 "nbformat": 4,
 "nbformat_minor": 5
}
